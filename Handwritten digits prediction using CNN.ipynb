{
 "cells": [
  {
   "cell_type": "markdown",
   "metadata": {
    "id": "gK6IMbeOCPg0"
   },
   "source": [
    "# Please make a copy of this notebook and try solving the below questions in your notebook copy. Solutions for these will be discussed in the assignment review session on <day> post which, we will also share the solution notebook.\n",
    "\n",
    "\n",
    "# **Good Luck**"
   ]
  },
  {
   "cell_type": "markdown",
   "metadata": {
    "id": "aUPBlfDXfDne"
   },
   "source": [
    "# Handwritten Letters Dataset\n",
    "###It contains the following info:\n",
    "#####**The main dataset (letters.zip)**\n",
    "1650 (50x33) color images (32x32x3) with 33 letters and the file with labels letters.txt.\n",
    "Photo files are in the .png format and the labels are integers and values.\n",
    "Additional letters.csv file.\n",
    "The file LetterColorImages.h5 consists of preprocessing images of this set: image tensors and targets (labels).\n",
    "#####**The additional dataset (letters2.zip)**\n",
    "5940 (180x33) color images (32x32x3) with 33 letters and the file with labels letters2.txt.\n",
    "Photo files are in the .png format and the labels are integers and values.\n",
    "Additional letters2.csv file.\n",
    "The file LetterColorImages2.h5 consists of preprocessing images of this set: image tensors and targets (labels).\n",
    "#####**The additional dataset (letters3.zip)**\n",
    "6600 (200x33) color images (32x32x3) with 33 letters and the file with labels letters2.txt.\n",
    "Photo files are in the .png format and the labels are integers and values.\n",
    "Additional letters3.csv file.\n",
    "The file LetterColorImages3.h5 consists of preprocessing images of this set: image tensors and targets (labels).\n",
    "Letter Symbols => Letter Labels\n",
    "а=>1, б=>2, в=>3, г=>4, д=>5, е=>6, ё=>7, ж=>8, з=>9, и=>10,\n",
    "й=>11, к=>12, л=>13, м=>14, н=>15, о=>16, п=>17, р=>18, с=>19, т=>20,\n",
    "у=>21, ф=>22, х=>23, ц=>24, ч=>25, ш=>26, щ=>27, ъ=>28, ы=>29, ь=>30,\n",
    "э=>31, ю=>32, я=>33\n",
    "\n",
    "Image Backgrounds => Background Labels\n",
    "striped=>0, gridded=>1, no background=>2, graph paper=>3\n",
    "\n",
    "#####**The new version (zip_letters.zip)**\n",
    "Letter Symbols => Letter Labels\n",
    "а=>00, б=>01, в=>02, г=>03, д=>04, е=>05, ё=>06, ж=>07, з=>08, и=>09,\n",
    "й=>10, к=>11, л=>12, м=>13, н=>14, о=>15, п=>16, р=>17, с=>18, т=>19,\n",
    "у=>20, ф=>21, х=>22, ц=>23, ч=>24, ш=>25, щ=>26, ъ=>27, ы=>28, ь=>29,\n",
    "э=>30, ю=>31, я=>32\n",
    "\n",
    "'lowercase'=>00, 'uppercase'=>01\n",
    "\n",
    "Image Backgrounds => Background Labels\n",
    "'single-colored paper'=>00, 'striped paper'=>01, 'squared paper'=>02, 'graph paper'=>03\n",
    "\n"
   ]
  },
  {
   "cell_type": "markdown",
   "metadata": {
    "id": "9w1aihGOB8jM"
   },
   "source": [
    "##Question 1\n",
    "####Import the libraries and extract the dataset from zipped file."
   ]
  },
  {
   "cell_type": "code",
   "execution_count": 1,
   "metadata": {
    "id": "Td0fdTsQC2As"
   },
   "outputs": [],
   "source": [
    "import pandas as pd\n",
    "import numpy as np\n",
    "\n",
    "from sklearn.model_selection import train_test_split\n",
    "import tensorflow as tf\n",
    "\n",
    "from tensorflow.keras import Sequential\n",
    "from tensorflow.keras.activations import relu,softmax,sigmoid\n",
    "from tensorflow.keras.layers import Dense,Dropout,BatchNormalization,Conv2D,MaxPool2D,Flatten\n",
    "from tensorflow.keras.optimizers import Adam\n",
    "from tensorflow.keras.losses import CategoricalCrossentropy\n",
    "\n",
    "from tensorflow.keras.callbacks import EarlyStopping,ModelCheckpoint,ReduceLROnPlateau\n",
    "\n",
    "from tensorflow.keras.utils import to_categorical"
   ]
  },
  {
   "cell_type": "code",
   "execution_count": 2,
   "metadata": {},
   "outputs": [],
   "source": [
    "def read_data(root,file):\n",
    "    data = pd.read_csv(root+file)\n",
    "    data[\"Source file\"] = file[:-4]+'/'\n",
    "    \n",
    "    return data"
   ]
  },
  {
   "cell_type": "code",
   "execution_count": 3,
   "metadata": {},
   "outputs": [],
   "source": [
    "root_folder = 'C:/Users/nswet/Documents/IK/Deeplearning_CV/Handwritten_Letter_Dataset/'\n",
    "csv_files = ['letters.csv','letters2.csv','letters3.csv']\n",
    "data_df = pd.DataFrame()\n",
    "\n",
    "for csv_file in csv_files:\n",
    "    data = read_data(root_folder,csv_file)\n",
    "    data_df = pd.concat([data_df,data],axis=0,ignore_index = True)"
   ]
  },
  {
   "cell_type": "code",
   "execution_count": 4,
   "metadata": {
    "executionInfo": {
     "elapsed": 3,
     "status": "ok",
     "timestamp": 1689583869952,
     "user": {
      "displayName": "Pyusha Privi",
      "userId": "06683342178265261776"
     },
     "user_tz": -330
    },
    "id": "eAAqiqxAC7hO"
   },
   "outputs": [],
   "source": [
    "del data"
   ]
  },
  {
   "cell_type": "code",
   "execution_count": 5,
   "metadata": {},
   "outputs": [
    {
     "data": {
      "text/html": [
       "<div>\n",
       "<style scoped>\n",
       "    .dataframe tbody tr th:only-of-type {\n",
       "        vertical-align: middle;\n",
       "    }\n",
       "\n",
       "    .dataframe tbody tr th {\n",
       "        vertical-align: top;\n",
       "    }\n",
       "\n",
       "    .dataframe thead th {\n",
       "        text-align: right;\n",
       "    }\n",
       "</style>\n",
       "<table border=\"1\" class=\"dataframe\">\n",
       "  <thead>\n",
       "    <tr style=\"text-align: right;\">\n",
       "      <th></th>\n",
       "      <th>letter</th>\n",
       "      <th>label</th>\n",
       "      <th>file</th>\n",
       "      <th>background</th>\n",
       "      <th>Source file</th>\n",
       "    </tr>\n",
       "  </thead>\n",
       "  <tbody>\n",
       "    <tr>\n",
       "      <th>14185</th>\n",
       "      <td>я</td>\n",
       "      <td>33</td>\n",
       "      <td>33_426.png</td>\n",
       "      <td>3</td>\n",
       "      <td>letters3/</td>\n",
       "    </tr>\n",
       "    <tr>\n",
       "      <th>14186</th>\n",
       "      <td>я</td>\n",
       "      <td>33</td>\n",
       "      <td>33_427.png</td>\n",
       "      <td>3</td>\n",
       "      <td>letters3/</td>\n",
       "    </tr>\n",
       "    <tr>\n",
       "      <th>14187</th>\n",
       "      <td>я</td>\n",
       "      <td>33</td>\n",
       "      <td>33_428.png</td>\n",
       "      <td>3</td>\n",
       "      <td>letters3/</td>\n",
       "    </tr>\n",
       "    <tr>\n",
       "      <th>14188</th>\n",
       "      <td>я</td>\n",
       "      <td>33</td>\n",
       "      <td>33_429.png</td>\n",
       "      <td>3</td>\n",
       "      <td>letters3/</td>\n",
       "    </tr>\n",
       "    <tr>\n",
       "      <th>14189</th>\n",
       "      <td>я</td>\n",
       "      <td>33</td>\n",
       "      <td>33_430.png</td>\n",
       "      <td>3</td>\n",
       "      <td>letters3/</td>\n",
       "    </tr>\n",
       "  </tbody>\n",
       "</table>\n",
       "</div>"
      ],
      "text/plain": [
       "      letter  label        file  background Source file\n",
       "14185      я     33  33_426.png           3   letters3/\n",
       "14186      я     33  33_427.png           3   letters3/\n",
       "14187      я     33  33_428.png           3   letters3/\n",
       "14188      я     33  33_429.png           3   letters3/\n",
       "14189      я     33  33_430.png           3   letters3/"
      ]
     },
     "execution_count": 5,
     "metadata": {},
     "output_type": "execute_result"
    }
   ],
   "source": [
    "data_df.tail()"
   ]
  },
  {
   "cell_type": "code",
   "execution_count": 6,
   "metadata": {},
   "outputs": [],
   "source": [
    "#lets get the unique set of letters from the data\n",
    "\n",
    "unique_letters = \"\"\n",
    "\n",
    "for i in range(len(data_df)):\n",
    "    letter = data_df.iloc[i,0]\n",
    "    \n",
    "    if letter in unique_letters:\n",
    "        pass\n",
    "    else:\n",
    "        unique_letters = unique_letters+letter"
   ]
  },
  {
   "cell_type": "markdown",
   "metadata": {},
   "source": [
    "## Encode the letters and Background"
   ]
  },
  {
   "cell_type": "code",
   "execution_count": 7,
   "metadata": {},
   "outputs": [
    {
     "data": {
      "text/plain": [
       "'абвгдеёжзийклмнопрстуфхцчшщъыьэюя'"
      ]
     },
     "execution_count": 7,
     "metadata": {},
     "output_type": "execute_result"
    }
   ],
   "source": [
    "unique_letters"
   ]
  },
  {
   "cell_type": "code",
   "execution_count": 8,
   "metadata": {},
   "outputs": [],
   "source": [
    "def encode_letters(letter):\n",
    "    \n",
    "    encoded_ltr = np.zeros(len(unique_letters))\n",
    "    \n",
    "    get_index = unique_letters.index(letter)\n",
    "    \n",
    "    encoded_ltr[get_index] = 1\n",
    "    \n",
    "    return encoded_ltr"
   ]
  },
  {
   "cell_type": "code",
   "execution_count": 9,
   "metadata": {},
   "outputs": [
    {
     "data": {
      "text/plain": [
       "array([1., 0., 0., 0., 0., 0., 0., 0., 0., 0., 0., 0., 0., 0., 0., 0., 0.,\n",
       "       0., 0., 0., 0., 0., 0., 0., 0., 0., 0., 0., 0., 0., 0., 0., 0.])"
      ]
     },
     "execution_count": 9,
     "metadata": {},
     "output_type": "execute_result"
    }
   ],
   "source": [
    "encode_letters('а')"
   ]
  },
  {
   "cell_type": "code",
   "execution_count": 10,
   "metadata": {},
   "outputs": [],
   "source": [
    "# Meaning of background categories\n",
    "\n",
    "# striped = 0 gridded = 1 no background = 2 graph paper = 3\n",
    "\n",
    "def encode_background(background):\n",
    "    encoded_bk = np.zeros(len(data_df[\"background\"].unique()))\n",
    "    \n",
    "    encoded_bk[background] = 1\n",
    "    \n",
    "    return encoded_bk"
   ]
  },
  {
   "cell_type": "code",
   "execution_count": 11,
   "metadata": {},
   "outputs": [
    {
     "data": {
      "text/plain": [
       "array([0., 0., 0., 1.])"
      ]
     },
     "execution_count": 11,
     "metadata": {},
     "output_type": "execute_result"
    }
   ],
   "source": [
    "encode_background(3)"
   ]
  },
  {
   "cell_type": "code",
   "execution_count": 12,
   "metadata": {},
   "outputs": [],
   "source": [
    "data_df[\"encoded_letters\"] = data_df[\"letter\"].apply(lambda x:encode_letters(x))\n",
    "data_df[\"encoded_background\"] = data_df[\"background\"].apply(lambda x:encode_background(x))"
   ]
  },
  {
   "cell_type": "code",
   "execution_count": 13,
   "metadata": {},
   "outputs": [
    {
     "data": {
      "text/html": [
       "<div>\n",
       "<style scoped>\n",
       "    .dataframe tbody tr th:only-of-type {\n",
       "        vertical-align: middle;\n",
       "    }\n",
       "\n",
       "    .dataframe tbody tr th {\n",
       "        vertical-align: top;\n",
       "    }\n",
       "\n",
       "    .dataframe thead th {\n",
       "        text-align: right;\n",
       "    }\n",
       "</style>\n",
       "<table border=\"1\" class=\"dataframe\">\n",
       "  <thead>\n",
       "    <tr style=\"text-align: right;\">\n",
       "      <th></th>\n",
       "      <th>letter</th>\n",
       "      <th>label</th>\n",
       "      <th>file</th>\n",
       "      <th>background</th>\n",
       "      <th>Source file</th>\n",
       "      <th>encoded_letters</th>\n",
       "      <th>encoded_background</th>\n",
       "    </tr>\n",
       "  </thead>\n",
       "  <tbody>\n",
       "    <tr>\n",
       "      <th>0</th>\n",
       "      <td>а</td>\n",
       "      <td>1</td>\n",
       "      <td>01_01.png</td>\n",
       "      <td>0</td>\n",
       "      <td>letters/</td>\n",
       "      <td>[1.0, 0.0, 0.0, 0.0, 0.0, 0.0, 0.0, 0.0, 0.0, ...</td>\n",
       "      <td>[1.0, 0.0, 0.0, 0.0]</td>\n",
       "    </tr>\n",
       "    <tr>\n",
       "      <th>1</th>\n",
       "      <td>а</td>\n",
       "      <td>1</td>\n",
       "      <td>01_02.png</td>\n",
       "      <td>0</td>\n",
       "      <td>letters/</td>\n",
       "      <td>[1.0, 0.0, 0.0, 0.0, 0.0, 0.0, 0.0, 0.0, 0.0, ...</td>\n",
       "      <td>[1.0, 0.0, 0.0, 0.0]</td>\n",
       "    </tr>\n",
       "    <tr>\n",
       "      <th>2</th>\n",
       "      <td>а</td>\n",
       "      <td>1</td>\n",
       "      <td>01_03.png</td>\n",
       "      <td>0</td>\n",
       "      <td>letters/</td>\n",
       "      <td>[1.0, 0.0, 0.0, 0.0, 0.0, 0.0, 0.0, 0.0, 0.0, ...</td>\n",
       "      <td>[1.0, 0.0, 0.0, 0.0]</td>\n",
       "    </tr>\n",
       "    <tr>\n",
       "      <th>3</th>\n",
       "      <td>а</td>\n",
       "      <td>1</td>\n",
       "      <td>01_04.png</td>\n",
       "      <td>0</td>\n",
       "      <td>letters/</td>\n",
       "      <td>[1.0, 0.0, 0.0, 0.0, 0.0, 0.0, 0.0, 0.0, 0.0, ...</td>\n",
       "      <td>[1.0, 0.0, 0.0, 0.0]</td>\n",
       "    </tr>\n",
       "    <tr>\n",
       "      <th>4</th>\n",
       "      <td>а</td>\n",
       "      <td>1</td>\n",
       "      <td>01_05.png</td>\n",
       "      <td>0</td>\n",
       "      <td>letters/</td>\n",
       "      <td>[1.0, 0.0, 0.0, 0.0, 0.0, 0.0, 0.0, 0.0, 0.0, ...</td>\n",
       "      <td>[1.0, 0.0, 0.0, 0.0]</td>\n",
       "    </tr>\n",
       "  </tbody>\n",
       "</table>\n",
       "</div>"
      ],
      "text/plain": [
       "  letter  label       file  background Source file  \\\n",
       "0      а      1  01_01.png           0    letters/   \n",
       "1      а      1  01_02.png           0    letters/   \n",
       "2      а      1  01_03.png           0    letters/   \n",
       "3      а      1  01_04.png           0    letters/   \n",
       "4      а      1  01_05.png           0    letters/   \n",
       "\n",
       "                                     encoded_letters    encoded_background  \n",
       "0  [1.0, 0.0, 0.0, 0.0, 0.0, 0.0, 0.0, 0.0, 0.0, ...  [1.0, 0.0, 0.0, 0.0]  \n",
       "1  [1.0, 0.0, 0.0, 0.0, 0.0, 0.0, 0.0, 0.0, 0.0, ...  [1.0, 0.0, 0.0, 0.0]  \n",
       "2  [1.0, 0.0, 0.0, 0.0, 0.0, 0.0, 0.0, 0.0, 0.0, ...  [1.0, 0.0, 0.0, 0.0]  \n",
       "3  [1.0, 0.0, 0.0, 0.0, 0.0, 0.0, 0.0, 0.0, 0.0, ...  [1.0, 0.0, 0.0, 0.0]  \n",
       "4  [1.0, 0.0, 0.0, 0.0, 0.0, 0.0, 0.0, 0.0, 0.0, ...  [1.0, 0.0, 0.0, 0.0]  "
      ]
     },
     "execution_count": 13,
     "metadata": {},
     "output_type": "execute_result"
    }
   ],
   "source": [
    "data_df.head()"
   ]
  },
  {
   "cell_type": "code",
   "execution_count": 14,
   "metadata": {},
   "outputs": [
    {
     "name": "stdout",
     "output_type": "stream",
     "text": [
      "Requirement already satisfied: h5py in c:\\users\\nswet\\anaconda3\\lib\\site-packages (3.6.0)\n",
      "Requirement already satisfied: numpy>=1.14.5 in c:\\users\\nswet\\anaconda3\\lib\\site-packages (from h5py) (1.26.2)\n",
      "Note: you may need to restart the kernel to use updated packages.\n"
     ]
    }
   ],
   "source": [
    "# pip install h5py"
   ]
  },
  {
   "cell_type": "code",
   "execution_count": 15,
   "metadata": {
    "scrolled": true
   },
   "outputs": [
    {
     "name": "stdout",
     "output_type": "stream",
     "text": [
      "Keys ['backgrounds', 'images', 'labels']\n"
     ]
    }
   ],
   "source": [
    "import h5py\n",
    "\n",
    "h5_file_path = root_folder +'LetterColorImages_123.h5'\n",
    "\n",
    "with h5py.File(h5_file_path, 'r') as h5file:\n",
    "    \n",
    "    print(\"Keys\", list(h5file.keys()))\n",
    "    #Keys ['backgrounds', 'images', 'labels']\n",
    "    \n",
    "    background = h5file[\"backgrounds\"][:]\n",
    "    images = h5file[\"images\"][:]\n",
    "    labels = h5file[\"labels\"][:]"
   ]
  },
  {
   "cell_type": "code",
   "execution_count": 16,
   "metadata": {},
   "outputs": [
    {
     "name": "stdout",
     "output_type": "stream",
     "text": [
      "Summary of the data in LetterColorImages_123.h5\n",
      "+++++++++++++++++++++++++++++++++++++++++++++++\n",
      "length of the data 14190\n",
      "Shape of the Images (14190, 32, 32, 3)\n"
     ]
    }
   ],
   "source": [
    "print(\"Summary of the data in LetterColorImages_123.h5\")\n",
    "print(\"+++++++++++++++++++++++++++++++++++++++++++++++\")\n",
    "print(\"length of the data\", len(background))\n",
    "print(\"Shape of the Images\", images.shape)"
   ]
  },
  {
   "cell_type": "markdown",
   "metadata": {},
   "source": [
    "> LetterColorImages_123.h5 file contains many image files \n",
    "> each image file is of size 32*32*3 and it has an associated label and background"
   ]
  },
  {
   "cell_type": "code",
   "execution_count": 17,
   "metadata": {},
   "outputs": [
    {
     "name": "stdout",
     "output_type": "stream",
     "text": [
      "Background Type: <class 'numpy.ndarray'>\n",
      "Images Type: <class 'numpy.ndarray'>\n",
      "Labels Type: <class 'numpy.ndarray'>\n"
     ]
    }
   ],
   "source": [
    "print(\"Background Type:\",type(background))\n",
    "print(\"Images Type:\",type(images))\n",
    "print(\"Labels Type:\",type(labels))"
   ]
  },
  {
   "cell_type": "markdown",
   "metadata": {},
   "source": [
    "## Encode the numpy array of the Background and Labels"
   ]
  },
  {
   "cell_type": "code",
   "execution_count": 18,
   "metadata": {},
   "outputs": [],
   "source": [
    "## Normalise the images\n",
    "X = images/255"
   ]
  },
  {
   "cell_type": "code",
   "execution_count": 19,
   "metadata": {},
   "outputs": [],
   "source": [
    "from tensorflow.keras.utils import to_categorical\n",
    "# labels are from 1 to 33\n",
    "# subtract 1 from them to make them from 0 to 32\n",
    "new_labels = labels-1\n",
    "y = to_categorical(new_labels, num_classes=33)"
   ]
  },
  {
   "cell_type": "code",
   "execution_count": 20,
   "metadata": {},
   "outputs": [
    {
     "name": "stdout",
     "output_type": "stream",
     "text": [
      "X shape (14190, 32, 32, 3)\n",
      "y shape (14190, 33)\n"
     ]
    }
   ],
   "source": [
    "print(\"X shape\",X.shape)\n",
    "print(\"y shape\",y.shape)"
   ]
  },
  {
   "cell_type": "code",
   "execution_count": 21,
   "metadata": {},
   "outputs": [],
   "source": [
    "## input dimensions\n",
    "img_rows = X.shape[1]\n",
    "img_cols = X.shape[2]\n",
    "channels = X.shape[3]\n",
    "\n",
    "input_dim = (img_rows,img_cols,channels)\n",
    "\n",
    "## output dimensions\n",
    "output_dim = y.shape[1]\n",
    "\n",
    "## batch size\n",
    "bacth_size = 64\n",
    "\n",
    "## no of epochs\n",
    "epochs = 15"
   ]
  },
  {
   "cell_type": "code",
   "execution_count": 22,
   "metadata": {},
   "outputs": [],
   "source": [
    "def build_model():\n",
    "    \n",
    "    cnn_model = Sequential()\n",
    "    \n",
    "    #feature extraction\n",
    "    \n",
    "    #define conv layers with fileters and kernel size\n",
    "    cnn_model.add(Conv2D(filters=32,kernel_size=(3,3),activation='relu',padding=\"same\",input_shape = input_dim))\n",
    "    cnn_model.add(BatchNormalization())\n",
    "    \n",
    "    cnn_model.add(Conv2D(filters=64,kernel_size=(3,3),activation='relu',padding=\"same\"))\n",
    "    cnn_model.add(BatchNormalization())\n",
    "    \n",
    "    cnn_model.add(Conv2D(filters=128,kernel_size=(4,4),activation='relu',padding=\"same\"))\n",
    "    cnn_model.add(BatchNormalization())\n",
    "    \n",
    "    #define maxpooling layers\n",
    "    cnn_model.add(MaxPool2D(pool_size=(2, 2)))\n",
    "                  \n",
    "                  \n",
    "    cnn_model.add(Flatten())     \n",
    "                  \n",
    "    #Classification\n",
    "    cnn_model.add(Dense(units=128,activation='relu')) \n",
    "#     cnn_model.add(Dropout(0.25))\n",
    "    cnn_model.add(BatchNormalization())\n",
    "    cnn_model.add(Dense(units=output_dim,activation='softmax'))\n",
    "    \n",
    "    opt = Adam(learning_rate=0.001)\n",
    "    loss = CategoricalCrossentropy()\n",
    "    metrics = \"accuracy\"\n",
    "    cnn_model.compile(loss = loss,optimizer = opt,metrics = metrics)\n",
    "    \n",
    "    return cnn_model"
   ]
  },
  {
   "cell_type": "code",
   "execution_count": 23,
   "metadata": {},
   "outputs": [],
   "source": [
    "cnn_model = build_model()"
   ]
  },
  {
   "cell_type": "code",
   "execution_count": 24,
   "metadata": {
    "scrolled": false
   },
   "outputs": [
    {
     "name": "stdout",
     "output_type": "stream",
     "text": [
      "Model: \"sequential\"\n",
      "_________________________________________________________________\n",
      " Layer (type)                Output Shape              Param #   \n",
      "=================================================================\n",
      " conv2d (Conv2D)             (None, 32, 32, 32)        896       \n",
      "                                                                 \n",
      " batch_normalization (Batch  (None, 32, 32, 32)        128       \n",
      " Normalization)                                                  \n",
      "                                                                 \n",
      " conv2d_1 (Conv2D)           (None, 32, 32, 64)        18496     \n",
      "                                                                 \n",
      " batch_normalization_1 (Bat  (None, 32, 32, 64)        256       \n",
      " chNormalization)                                                \n",
      "                                                                 \n",
      " conv2d_2 (Conv2D)           (None, 32, 32, 128)       131200    \n",
      "                                                                 \n",
      " batch_normalization_2 (Bat  (None, 32, 32, 128)       512       \n",
      " chNormalization)                                                \n",
      "                                                                 \n",
      " max_pooling2d (MaxPooling2  (None, 16, 16, 128)       0         \n",
      " D)                                                              \n",
      "                                                                 \n",
      " flatten (Flatten)           (None, 32768)             0         \n",
      "                                                                 \n",
      " dense (Dense)               (None, 128)               4194432   \n",
      "                                                                 \n",
      " batch_normalization_3 (Bat  (None, 128)               512       \n",
      " chNormalization)                                                \n",
      "                                                                 \n",
      " dense_1 (Dense)             (None, 33)                4257      \n",
      "                                                                 \n",
      "=================================================================\n",
      "Total params: 4350689 (16.60 MB)\n",
      "Trainable params: 4349985 (16.59 MB)\n",
      "Non-trainable params: 704 (2.75 KB)\n",
      "_________________________________________________________________\n"
     ]
    }
   ],
   "source": [
    "cnn_model.summary()"
   ]
  },
  {
   "cell_type": "code",
   "execution_count": 25,
   "metadata": {},
   "outputs": [],
   "source": [
    "X_train, X_test, y_train, y_test = train_test_split(X,y,random_state=42,test_size=0.20,stratify=y)"
   ]
  },
  {
   "cell_type": "code",
   "execution_count": 26,
   "metadata": {
    "scrolled": false
   },
   "outputs": [
    {
     "name": "stdout",
     "output_type": "stream",
     "text": [
      "Epoch 1/20\n",
      "142/142 [==============================] - ETA: 0s - loss: 2.6618 - accuracy: 0.2764\n",
      "Epoch 1: val_loss improved from inf to 5.55199, saving model to cnn_model_weights.best.hdf5\n",
      "142/142 [==============================] - 102s 708ms/step - loss: 2.6618 - accuracy: 0.2764 - val_loss: 5.5520 - val_accuracy: 0.0365 - lr: 0.0010\n",
      "Epoch 2/20\n"
     ]
    },
    {
     "name": "stderr",
     "output_type": "stream",
     "text": [
      "C:\\Users\\nswet\\anaconda3\\lib\\site-packages\\keras\\src\\engine\\training.py:3000: UserWarning: You are saving your model as an HDF5 file via `model.save()`. This file format is considered legacy. We recommend using instead the native Keras format, e.g. `model.save('my_model.keras')`.\n",
      "  saving_api.save_model(\n"
     ]
    },
    {
     "name": "stdout",
     "output_type": "stream",
     "text": [
      "142/142 [==============================] - ETA: 0s - loss: 1.3626 - accuracy: 0.6301\n",
      "Epoch 2: val_loss improved from 5.55199 to 4.21865, saving model to cnn_model_weights.best.hdf5\n",
      "142/142 [==============================] - 111s 785ms/step - loss: 1.3626 - accuracy: 0.6301 - val_loss: 4.2186 - val_accuracy: 0.0744 - lr: 0.0010\n",
      "Epoch 3/20\n",
      "142/142 [==============================] - ETA: 0s - loss: 0.7446 - accuracy: 0.8085\n",
      "Epoch 3: val_loss improved from 4.21865 to 2.96519, saving model to cnn_model_weights.best.hdf5\n",
      "142/142 [==============================] - 109s 768ms/step - loss: 0.7446 - accuracy: 0.8085 - val_loss: 2.9652 - val_accuracy: 0.2109 - lr: 0.0010\n",
      "Epoch 4/20\n",
      "142/142 [==============================] - ETA: 0s - loss: 0.4186 - accuracy: 0.8984\n",
      "Epoch 4: val_loss improved from 2.96519 to 1.33158, saving model to cnn_model_weights.best.hdf5\n",
      "142/142 [==============================] - 103s 728ms/step - loss: 0.4186 - accuracy: 0.8984 - val_loss: 1.3316 - val_accuracy: 0.6279 - lr: 0.0010\n",
      "Epoch 5/20\n",
      "142/142 [==============================] - ETA: 0s - loss: 0.1901 - accuracy: 0.9620\n",
      "Epoch 5: val_loss improved from 1.33158 to 0.78122, saving model to cnn_model_weights.best.hdf5\n",
      "142/142 [==============================] - 94s 663ms/step - loss: 0.1901 - accuracy: 0.9620 - val_loss: 0.7812 - val_accuracy: 0.7772 - lr: 0.0010\n",
      "Epoch 6/20\n",
      "142/142 [==============================] - ETA: 0s - loss: 0.0723 - accuracy: 0.9912\n",
      "Epoch 6: val_loss did not improve from 0.78122\n",
      "142/142 [==============================] - 91s 644ms/step - loss: 0.0723 - accuracy: 0.9912 - val_loss: 0.9638 - val_accuracy: 0.7195 - lr: 0.0010\n",
      "Epoch 7/20\n",
      "142/142 [==============================] - ETA: 0s - loss: 0.0264 - accuracy: 0.9987\n",
      "Epoch 7: val_loss improved from 0.78122 to 0.57451, saving model to cnn_model_weights.best.hdf5\n",
      "142/142 [==============================] - 94s 665ms/step - loss: 0.0264 - accuracy: 0.9987 - val_loss: 0.5745 - val_accuracy: 0.8327 - lr: 0.0010\n",
      "Epoch 8/20\n",
      "142/142 [==============================] - ETA: 0s - loss: 0.0111 - accuracy: 0.9998\n",
      "Epoch 8: val_loss improved from 0.57451 to 0.44995, saving model to cnn_model_weights.best.hdf5\n",
      "142/142 [==============================] - 95s 666ms/step - loss: 0.0111 - accuracy: 0.9998 - val_loss: 0.4499 - val_accuracy: 0.8692 - lr: 0.0010\n",
      "Epoch 9/20\n",
      "142/142 [==============================] - ETA: 0s - loss: 0.0059 - accuracy: 1.0000\n",
      "Epoch 9: val_loss did not improve from 0.44995\n",
      "142/142 [==============================] - 96s 679ms/step - loss: 0.0059 - accuracy: 1.0000 - val_loss: 0.4587 - val_accuracy: 0.8683 - lr: 0.0010\n",
      "Epoch 10/20\n",
      "142/142 [==============================] - ETA: 0s - loss: 0.0041 - accuracy: 1.0000\n",
      "Epoch 10: val_loss improved from 0.44995 to 0.42818, saving model to cnn_model_weights.best.hdf5\n",
      "142/142 [==============================] - 95s 671ms/step - loss: 0.0041 - accuracy: 1.0000 - val_loss: 0.4282 - val_accuracy: 0.8833 - lr: 0.0010\n",
      "Epoch 11/20\n",
      "142/142 [==============================] - ETA: 0s - loss: 0.0031 - accuracy: 1.0000\n",
      "Epoch 11: val_loss improved from 0.42818 to 0.39704, saving model to cnn_model_weights.best.hdf5\n",
      "142/142 [==============================] - 100s 705ms/step - loss: 0.0031 - accuracy: 1.0000 - val_loss: 0.3970 - val_accuracy: 0.8921 - lr: 0.0010\n",
      "Epoch 12/20\n",
      "142/142 [==============================] - ETA: 0s - loss: 0.0024 - accuracy: 1.0000\n",
      "Epoch 12: val_loss did not improve from 0.39704\n",
      "142/142 [==============================] - 99s 697ms/step - loss: 0.0024 - accuracy: 1.0000 - val_loss: 0.4003 - val_accuracy: 0.8912 - lr: 0.0010\n",
      "Epoch 13/20\n",
      "142/142 [==============================] - ETA: 0s - loss: 0.0020 - accuracy: 1.0000\n",
      "Epoch 13: val_loss did not improve from 0.39704\n",
      "142/142 [==============================] - 99s 700ms/step - loss: 0.0020 - accuracy: 1.0000 - val_loss: 0.3995 - val_accuracy: 0.8886 - lr: 0.0010\n",
      "Epoch 14/20\n",
      "142/142 [==============================] - ETA: 0s - loss: 0.0017 - accuracy: 1.0000  \n",
      "Epoch 14: val_loss improved from 0.39704 to 0.39241, saving model to cnn_model_weights.best.hdf5\n",
      "142/142 [==============================] - 29712s 211s/step - loss: 0.0017 - accuracy: 1.0000 - val_loss: 0.3924 - val_accuracy: 0.8934 - lr: 0.0010\n",
      "Epoch 15/20\n",
      "142/142 [==============================] - ETA: 0s - loss: 0.0014 - accuracy: 1.0000\n",
      "Epoch 15: val_loss did not improve from 0.39241\n",
      "142/142 [==============================] - 90s 635ms/step - loss: 0.0014 - accuracy: 1.0000 - val_loss: 0.4037 - val_accuracy: 0.8899 - lr: 0.0010\n",
      "Epoch 16/20\n",
      "142/142 [==============================] - ETA: 0s - loss: 0.0012 - accuracy: 1.0000\n",
      "Epoch 16: val_loss did not improve from 0.39241\n",
      "142/142 [==============================] - 105s 736ms/step - loss: 0.0012 - accuracy: 1.0000 - val_loss: 0.3941 - val_accuracy: 0.8886 - lr: 0.0010\n",
      "Epoch 17/20\n",
      "142/142 [==============================] - ETA: 0s - loss: 0.0010 - accuracy: 1.0000\n",
      "Epoch 17: val_loss did not improve from 0.39241\n",
      "\n",
      "Epoch 17: ReduceLROnPlateau reducing learning rate to 0.0005000000237487257.\n",
      "142/142 [==============================] - 104s 733ms/step - loss: 0.0010 - accuracy: 1.0000 - val_loss: 0.3931 - val_accuracy: 0.8917 - lr: 0.0010\n",
      "Epoch 18/20\n",
      "142/142 [==============================] - ETA: 0s - loss: 9.0653e-04 - accuracy: 1.0000\n",
      "Epoch 18: val_loss improved from 0.39241 to 0.38540, saving model to cnn_model_weights.best.hdf5\n",
      "142/142 [==============================] - 102s 722ms/step - loss: 9.0653e-04 - accuracy: 1.0000 - val_loss: 0.3854 - val_accuracy: 0.8921 - lr: 5.0000e-04\n",
      "Epoch 19/20\n",
      "142/142 [==============================] - ETA: 0s - loss: 8.4651e-04 - accuracy: 1.0000\n",
      "Epoch 19: val_loss did not improve from 0.38540\n",
      "142/142 [==============================] - 94s 663ms/step - loss: 8.4651e-04 - accuracy: 1.0000 - val_loss: 0.3872 - val_accuracy: 0.8921 - lr: 5.0000e-04\n",
      "Epoch 20/20\n",
      "142/142 [==============================] - ETA: 0s - loss: 7.9310e-04 - accuracy: 1.0000\n",
      "Epoch 20: val_loss did not improve from 0.38540\n",
      "142/142 [==============================] - 98s 691ms/step - loss: 7.9310e-04 - accuracy: 1.0000 - val_loss: 0.3894 - val_accuracy: 0.8917 - lr: 5.0000e-04\n"
     ]
    }
   ],
   "source": [
    "#### filepath=\"cnn_model_weights.best.hdf5\"\n",
    "\n",
    "#save model weights only for best model\n",
    "filepath=\"cnn_model_weights.best.hdf5\"\n",
    "checkpoint = ModelCheckpoint(filepath, monitor='val_loss', verbose=1, save_best_only=True, mode='min')\n",
    "\n",
    "# reduce the learning rate when a metrics has stopped learning\n",
    "lr_scheduler =ReduceLROnPlateau(monitor='val_loss',patience=3,verbose=1,factor=0.5,min_lr=1e-5)\n",
    "\n",
    "# if the score doesnt improve during the 20 epocs stop the learning\n",
    "early_stop = EarlyStopping(monitor='val_loss',patience=20,verbose=1,restore_best_weights=True)\n",
    "\n",
    "callbacks_list = [checkpoint, lr_scheduler, early_stop]\n",
    "\n",
    "# Fit the model\n",
    "cnn_history = cnn_model.fit(X_train, y_train, validation_split=0.20, epochs=epochs, batch_size=bacth_size,callbacks=callbacks_list, verbose=1)"
   ]
  },
  {
   "cell_type": "code",
   "execution_count": 27,
   "metadata": {},
   "outputs": [
    {
     "data": {
      "text/plain": [
       "{'loss': [2.661795139312744,\n",
       "  1.3625978231430054,\n",
       "  0.7445661425590515,\n",
       "  0.4186317026615143,\n",
       "  0.190127894282341,\n",
       "  0.07226427644491196,\n",
       "  0.026434170082211494,\n",
       "  0.011132021434605122,\n",
       "  0.005930231884121895,\n",
       "  0.004139701370149851,\n",
       "  0.0030505552422255278,\n",
       "  0.0024063163436949253,\n",
       "  0.0019571336451917887,\n",
       "  0.0016688663745298982,\n",
       "  0.0013972261222079396,\n",
       "  0.0012088583316653967,\n",
       "  0.0010485982056707144,\n",
       "  0.0009065253543667495,\n",
       "  0.0008465125574730337,\n",
       "  0.0007930999854579568],\n",
       " 'accuracy': [0.2764012813568115,\n",
       "  0.6301068067550659,\n",
       "  0.8085012435913086,\n",
       "  0.8983592391014099,\n",
       "  0.9620085954666138,\n",
       "  0.9911903738975525,\n",
       "  0.9986785650253296,\n",
       "  0.9997797608375549,\n",
       "  1.0,\n",
       "  1.0,\n",
       "  1.0,\n",
       "  1.0,\n",
       "  1.0,\n",
       "  1.0,\n",
       "  1.0,\n",
       "  1.0,\n",
       "  1.0,\n",
       "  1.0,\n",
       "  1.0,\n",
       "  1.0],\n",
       " 'val_loss': [5.551985263824463,\n",
       "  4.218647003173828,\n",
       "  2.965191602706909,\n",
       "  1.3315800428390503,\n",
       "  0.7812166810035706,\n",
       "  0.9638316035270691,\n",
       "  0.5745108127593994,\n",
       "  0.4499458372592926,\n",
       "  0.45870137214660645,\n",
       "  0.4281814396381378,\n",
       "  0.39704105257987976,\n",
       "  0.4002857506275177,\n",
       "  0.3994949758052826,\n",
       "  0.39241454005241394,\n",
       "  0.40368273854255676,\n",
       "  0.39414796233177185,\n",
       "  0.39309442043304443,\n",
       "  0.38539713621139526,\n",
       "  0.38723254203796387,\n",
       "  0.38935351371765137],\n",
       " 'val_accuracy': [0.03654777631163597,\n",
       "  0.07441655546426773,\n",
       "  0.2109203040599823,\n",
       "  0.6279172301292419,\n",
       "  0.7771906852722168,\n",
       "  0.7195068001747131,\n",
       "  0.8326728343963623,\n",
       "  0.8692206144332886,\n",
       "  0.8683399558067322,\n",
       "  0.8833113312721252,\n",
       "  0.8921180367469788,\n",
       "  0.8912373185157776,\n",
       "  0.8885953426361084,\n",
       "  0.893438994884491,\n",
       "  0.8899163603782654,\n",
       "  0.8885953426361084,\n",
       "  0.8916776776313782,\n",
       "  0.8921180367469788,\n",
       "  0.8921180367469788,\n",
       "  0.8916776776313782],\n",
       " 'lr': [0.001,\n",
       "  0.001,\n",
       "  0.001,\n",
       "  0.001,\n",
       "  0.001,\n",
       "  0.001,\n",
       "  0.001,\n",
       "  0.001,\n",
       "  0.001,\n",
       "  0.001,\n",
       "  0.001,\n",
       "  0.001,\n",
       "  0.001,\n",
       "  0.001,\n",
       "  0.001,\n",
       "  0.001,\n",
       "  0.001,\n",
       "  0.0005,\n",
       "  0.0005,\n",
       "  0.0005]}"
      ]
     },
     "execution_count": 27,
     "metadata": {},
     "output_type": "execute_result"
    }
   ],
   "source": [
    "cnn_history.history"
   ]
  },
  {
   "cell_type": "code",
   "execution_count": 28,
   "metadata": {},
   "outputs": [],
   "source": [
    "def display_image(images_list, list_of_labels = np.arange(9)):\n",
    "\n",
    "    # plot first few images\n",
    "    plt.figure(figsize=(12,12))\n",
    "    for index in list_of_labels:\n",
    "\n",
    "        # Get corresponding label\n",
    "        ohe_label = encoded_labels[index]\n",
    "        index_letter = list(ohe_label).index(1)\n",
    "        associated_letter = letters[index_letter]\n",
    "\n",
    "        # Get background\n",
    "        associated_background = backgrounds[index]\n",
    "\n",
    "\n",
    "        # define subplot\n",
    "        plt.subplot(330 + 1 + index)\n",
    "        plt.title('Label: %s \\n'%associated_letter+\\\n",
    "                 'Background: %s\\n'%associated_background,\n",
    "                 fontsize=18)\n",
    "        # plot raw pixel data\n",
    "        plt.imshow(images[index])\n",
    "\n",
    "#     plt.subplots_adjust(bottom = 0.001)  # the bottom of the subplots of the figure\n",
    "#     plt.subplots_adjust(top = 0.99)\n",
    "    # show the figure\n",
    "    plt.show()"
   ]
  },
  {
   "cell_type": "code",
   "execution_count": 43,
   "metadata": {},
   "outputs": [
    {
     "data": {
      "text/plain": [
       "[30, 60, 90, 120, 150, 180, 210, 240, 270]"
      ]
     },
     "execution_count": 43,
     "metadata": {},
     "output_type": "execute_result"
    }
   ],
   "source": [
    "indx_img_to_display = list(range(30,300,30))\n",
    "indx_img_to_display"
   ]
  },
  {
   "cell_type": "code",
   "execution_count": 45,
   "metadata": {},
   "outputs": [
    {
     "data": {
      "text/plain": [
       "(32, 32, 3)"
      ]
     },
     "execution_count": 45,
     "metadata": {},
     "output_type": "execute_result"
    }
   ],
   "source": [
    "#image\n",
    "images[30].shape\n",
    "\n",
    "#background\n",
    "background[30]\n",
    "\n",
    "#label\n",
    "labels[30]\n",
    "\n",
    "#letter\n",
    "data_df.iloc[30,0]"
   ]
  },
  {
   "cell_type": "code",
   "execution_count": 57,
   "metadata": {},
   "outputs": [],
   "source": [
    "import matplotlib.pyplot as plt\n",
    "import seaborn as sns"
   ]
  },
  {
   "cell_type": "code",
   "execution_count": 101,
   "metadata": {},
   "outputs": [],
   "source": [
    "def plot_images(indx_img_to_display,data_df,images,background,labels):\n",
    "    \n",
    "    fig = plt.figure(figsize=(12,15))\n",
    "    \n",
    "    for i in range(len(indx_img_to_display)):\n",
    "        \n",
    "        index_number = indx_img_to_display[i]\n",
    "        #image\n",
    "        img = images[index_number]\n",
    "\n",
    "        #background\n",
    "        bck = background[index_number]\n",
    "\n",
    "        #label\n",
    "        lbl = labels[index_number]\n",
    "\n",
    "        #letter\n",
    "        letter = data_df.iloc[index_number,:][\"letter\"]\n",
    "        \n",
    "        \n",
    "\n",
    "        plt.subplot(3,3,i+1)\n",
    "        plt.title(f\"Letter:{letter} Background:{bck} label:{lbl}\")\n",
    "        plt.imshow(images[index_number].astype('uint8'))\n",
    "        plt.suptitle(\"Actual Images and Labels\")\n",
    "\n",
    "    plt.show()"
   ]
  },
  {
   "cell_type": "markdown",
   "metadata": {},
   "source": [
    "### Plotting Actual Images and labels and Backgrounds"
   ]
  },
  {
   "cell_type": "code",
   "execution_count": 102,
   "metadata": {},
   "outputs": [
    {
     "data": {
      "image/png": "[encoded data removed]",
      "text/plain": [
       "<Figure size 864x1080 with 9 Axes>"
      ]
     },
     "metadata": {
      "needs_background": "light"
     },
     "output_type": "display_data"
    }
   ],
   "source": [
    "plot_images(indx_img_to_display,data_df,images,background,labels)"
   ]
  },
  {
   "cell_type": "markdown",
   "metadata": {},
   "source": [
    "### Plotting tarin loss and validation loss"
   ]
  },
  {
   "cell_type": "code",
   "execution_count": 105,
   "metadata": {},
   "outputs": [],
   "source": [
    "train_loss = cnn_history.history[\"loss\"]\n",
    "val_loss = cnn_history.history[\"val_loss\"]\n",
    "\n",
    "train_acc = cnn_history.history[\"accuracy\"]\n",
    "val_acc = cnn_history.history[\"val_accuracy\"]"
   ]
  },
  {
   "cell_type": "code",
   "execution_count": 140,
   "metadata": {},
   "outputs": [
    {
     "data": {
      "image/png": "[encoded data removed]",
      "text/plain": [
       "<Figure size 1080x360 with 2 Axes>"
      ]
     },
     "metadata": {
      "needs_background": "light"
     },
     "output_type": "display_data"
    }
   ],
   "source": [
    "fig = plt.figure(figsize=(15,5))\n",
    "\n",
    "plt.subplot(1,2,1)\n",
    "plt.plot(list(range(epochs)),train_loss,marker='o',linewidth=2)\n",
    "plt.plot(list(range(epochs)),val_loss,marker='o',linewidth=2)\n",
    "plt.title(\"Train vs Val Loss\")\n",
    "plt.legend([\"Train Loss\", \"Val loss\"],loc = 'upper right')\n",
    "\n",
    "plt.subplot(1,2,2)\n",
    "plt.plot(list(range(epochs)),train_acc,marker='o',linewidth=2)\n",
    "plt.plot(list(range(epochs)),val_acc,marker='o',linewidth=2)\n",
    "plt.title(\"Train vs Val Accuracy\")\n",
    "plt.legend([\"Train Acc\", \"Val Acc\"],loc = 'upper right')\n",
    "\n",
    "plt.show()"
   ]
  },
  {
   "cell_type": "markdown",
   "metadata": {},
   "source": [
    "### Model Predictions"
   ]
  },
  {
   "cell_type": "code",
   "execution_count": 180,
   "metadata": {},
   "outputs": [],
   "source": [
    "# loading the model with the best validation accuracy\n",
    "cnn_model.load_weights('cnn_model_weights.best.hdf5')"
   ]
  },
  {
   "cell_type": "code",
   "execution_count": 181,
   "metadata": {},
   "outputs": [
    {
     "name": "stdout",
     "output_type": "stream",
     "text": [
      "89/89 [==============================] - 4s 42ms/step\n",
      "89/89 [==============================] - 4s 43ms/step - loss: 0.3191 - accuracy: 1.0000\n"
     ]
    },
    {
     "data": {
      "text/plain": [
       "[0.31911617517471313, 1.0]"
      ]
     },
     "execution_count": 181,
     "metadata": {},
     "output_type": "execute_result"
    }
   ],
   "source": [
    "y_test_pred = cnn_model.predict(X_test)\n",
    "cnn_model.evaluate(X_test, y_test_pred)"
   ]
  },
  {
   "cell_type": "code",
   "execution_count": 182,
   "metadata": {},
   "outputs": [
    {
     "name": "stdout",
     "output_type": "stream",
     "text": [
      "355/355 [==============================] - 19s 54ms/step - loss: 0.0776 - accuracy: 0.9784\n"
     ]
    },
    {
     "data": {
      "text/plain": [
       "[0.07755503803491592, 0.9784178733825684]"
      ]
     },
     "execution_count": 182,
     "metadata": {},
     "output_type": "execute_result"
    }
   ],
   "source": [
    "cnn_model.evaluate(X_train, y_train)"
   ]
  },
  {
   "cell_type": "code",
   "execution_count": 183,
   "metadata": {},
   "outputs": [
    {
     "name": "stdout",
     "output_type": "stream",
     "text": [
      "89/89 [==============================] - 7s 72ms/step - loss: 0.3883 - accuracy: 0.8890\n"
     ]
    },
    {
     "data": {
      "text/plain": [
       "[0.3882833421230316, 0.8890063166618347]"
      ]
     },
     "execution_count": 183,
     "metadata": {},
     "output_type": "execute_result"
    }
   ],
   "source": [
    "cnn_model.evaluate(X_test, y_test)"
   ]
  },
  {
   "cell_type": "code",
   "execution_count": 149,
   "metadata": {},
   "outputs": [],
   "source": [
    "import random\n",
    "\n",
    "index = random.randint(0,len(data_df))\n",
    "\n",
    "letter = data_df.iloc[index,:][\"letter\"]\n",
    "label = data_df.iloc[index,:][\"label\"]\n",
    "background = data_df.iloc[index,:][\"background\"]"
   ]
  },
  {
   "cell_type": "code",
   "execution_count": 166,
   "metadata": {},
   "outputs": [],
   "source": [
    "img = images[index]/255"
   ]
  },
  {
   "cell_type": "code",
   "execution_count": 169,
   "metadata": {},
   "outputs": [
    {
     "data": {
      "text/plain": [
       "(32, 32, 3)"
      ]
     },
     "execution_count": 169,
     "metadata": {},
     "output_type": "execute_result"
    }
   ],
   "source": [
    "img.shape"
   ]
  },
  {
   "cell_type": "code",
   "execution_count": 170,
   "metadata": {},
   "outputs": [
    {
     "name": "stdout",
     "output_type": "stream",
     "text": [
      "1/1 [==============================] - 0s 89ms/step\n"
     ]
    }
   ],
   "source": [
    "y_pred_sample =cnn_model.predict(img.reshape(-1,img.shape[0],img.shape[1],img.shape[2]))"
   ]
  },
  {
   "cell_type": "code",
   "execution_count": 171,
   "metadata": {},
   "outputs": [
    {
     "data": {
      "text/plain": [
       "array([[6.6043678e-05, 2.3862543e-07, 9.3892468e-06, 3.7212649e-07,\n",
       "        1.7961283e-06, 2.5008221e-06, 2.6550563e-07, 1.1942884e-06,\n",
       "        7.4836866e-09, 3.5716530e-06, 8.0939162e-07, 2.5683834e-04,\n",
       "        4.2519179e-07, 2.1660569e-06, 3.9453730e-06, 3.4371664e-05,\n",
       "        7.6131341e-06, 1.1596202e-04, 6.9665848e-06, 5.7415051e-05,\n",
       "        3.7084135e-08, 5.9245795e-05, 5.7964414e-08, 3.7615573e-06,\n",
       "        1.6412008e-08, 3.9376504e-05, 4.2775027e-06, 5.7208422e-06,\n",
       "        1.1460965e-05, 5.0995436e-07, 7.0616329e-07, 9.9930251e-01,\n",
       "        3.6185773e-07]], dtype=float32)"
      ]
     },
     "execution_count": 171,
     "metadata": {},
     "output_type": "execute_result"
    }
   ],
   "source": [
    "y_pred_sample"
   ]
  },
  {
   "cell_type": "code",
   "execution_count": 175,
   "metadata": {},
   "outputs": [],
   "source": [
    "y_pred_label = np.argmax(y_pred_sample)"
   ]
  },
  {
   "cell_type": "code",
   "execution_count": 178,
   "metadata": {},
   "outputs": [
    {
     "data": {
      "image/png": "[encoded data removed]",
      "text/plain": [
       "<Figure size 432x288 with 1 Axes>"
      ]
     },
     "metadata": {
      "needs_background": "light"
     },
     "output_type": "display_data"
    }
   ],
   "source": [
    "plt.imshow(images[index].astype('uint8'))\n",
    "plt.title(f\"Letter:{letter}\\n Background:{background}\\n True label:{label} Predicted label:{y_pred_label}\")\n",
    "plt.show()"
   ]
  }
 ],
 "metadata": {
  "colab": {
   "authorship_tag": "ABX9TyPkTg90Pwo4hlFFDmfUoxYo",
   "mount_file_id": "1b0uRrQ-OnmAHOgAzvxPSOWjqNq8Iq59u",
   "provenance": []
  },
  "kernelspec": {
   "display_name": "Python 3 (ipykernel)",
   "language": "python",
   "name": "python3"
  },
  "language_info": {
   "codemirror_mode": {
    "name": "ipython",
    "version": 3
   },
   "file_extension": ".py",
   "mimetype": "text/x-python",
   "name": "python",
   "nbconvert_exporter": "python",
   "pygments_lexer": "ipython3",
   "version": "3.9.12"
  }
 },
 "nbformat": 4,
 "nbformat_minor": 1
}
